{
 "cells": [
  {
   "cell_type": "markdown",
   "metadata": {},
   "source": [
    "### Исследование влияния пандемии на криминальную структуру Чикаго"
   ]
  },
  {
   "cell_type": "code",
   "execution_count": 330,
   "metadata": {},
   "outputs": [],
   "source": [
    "import pandas as pd\n",
    "import matplotlib.pyplot as plt\n",
    "import seaborn as sns"
   ]
  },
  {
   "cell_type": "code",
   "execution_count": 331,
   "metadata": {},
   "outputs": [],
   "source": [
    "sns.set_style('darkgrid')"
   ]
  },
  {
   "cell_type": "code",
   "execution_count": 332,
   "metadata": {
    "scrolled": true
   },
   "outputs": [],
   "source": [
    "from google.cloud import bigquery"
   ]
  },
  {
   "cell_type": "code",
   "execution_count": 333,
   "metadata": {},
   "outputs": [],
   "source": [
    "import os\n",
    "os.environ[\"GOOGLE_APPLICATION_CREDENTIALS\"]=r\"C:\\Users\\idmak\\Documents\\University_projects\\service-account-file.json\""
   ]
  },
  {
   "cell_type": "code",
   "execution_count": 334,
   "metadata": {
    "scrolled": false
   },
   "outputs": [],
   "source": [
    "client = bigquery.Client()"
   ]
  },
  {
   "cell_type": "code",
   "execution_count": 335,
   "metadata": {},
   "outputs": [
    {
     "name": "stderr",
     "output_type": "stream",
     "text": [
      "c:\\users\\idmak\\appdata\\local\\programs\\python\\python38\\lib\\site-packages\\pandas\\core\\generic.py:4150: PerformanceWarning: dropping on a non-lexsorted multi-index without a level parameter may impact performance.\n",
      "  obj = obj._drop_axis(labels, axis, level=level, errors=errors)\n"
     ]
    }
   ],
   "source": [
    "crimes_tab = client.query(\"\"\"\n",
    "SELECT year, primary_type, COUNT(unique_key) AS total\n",
    "FROM bigquery-public-data.chicago_crime.crime\n",
    "GROUP BY year, primary_type\n",
    "HAVING((year=2019 or year=2020) AND total >= 20)\n",
    "\"\"\").result().to_dataframe().set_index(keys=['primary_type','year']).T\n",
    "crimes_tab['CRIMINAL SEXUAL ASSAULT']+=crimes_tab['CRIM SEXUAL ASSAULT']\n",
    "crimes_tab = crimes_tab.T.drop(index='CRIM SEXUAL ASSAULT')"
   ]
  },
  {
   "cell_type": "code",
   "execution_count": 336,
   "metadata": {},
   "outputs": [],
   "source": [
    "arrested = client.query(\"\"\"\n",
    "SELECT year, primary_type, COUNT(unique_key) AS arrested\n",
    "FROM bigquery-public-data.chicago_crime.crime\n",
    "WHERE (arrest = True)\n",
    "AND primary_type NOT IN\n",
    "(SELECT primary_type FROM bigquery-public-data.chicago_crime.crime\n",
    "GROUP BY primary_type,year HAVING(COUNT(unique_key)<20 AND (YEAR = 2019 OR YEAR = 2020)))\n",
    "GROUP BY year, primary_type\n",
    "HAVING((year=2019 or year=2020))\n",
    "\"\"\").result().to_dataframe().set_index(keys=['primary_type','year']).T\n",
    "arrested['CRIMINAL SEXUAL ASSAULT']+=arrested['CRIM SEXUAL ASSAULT']\n",
    "arrested = arrested.T.drop(index='CRIM SEXUAL ASSAULT')"
   ]
  },
  {
   "cell_type": "code",
   "execution_count": 337,
   "metadata": {},
   "outputs": [],
   "source": [
    "domestic = client.query(\"\"\"\n",
    "SELECT year, primary_type, COUNT(unique_key) AS domestic\n",
    "FROM bigquery-public-data.chicago_crime.crime\n",
    "WHERE domestic = True\n",
    "AND primary_type NOT IN\n",
    "(SELECT primary_type FROM bigquery-public-data.chicago_crime.crime\n",
    "GROUP BY primary_type,year HAVING(COUNT(unique_key)<20 AND (YEAR = 2019 OR YEAR = 2020)))\n",
    "GROUP BY year, primary_type\n",
    "HAVING(year=2019 or year=2020)\n",
    "\"\"\").result().to_dataframe().set_index(keys=['primary_type','year']).T\n",
    "domestic['CRIMINAL SEXUAL ASSAULT']+=domestic['CRIM SEXUAL ASSAULT']\n",
    "domestic = domestic.T.drop(index='CRIM SEXUAL ASSAULT')"
   ]
  },
  {
   "cell_type": "code",
   "execution_count": 338,
   "metadata": {},
   "outputs": [],
   "source": [
    "crimes = crimes_tab.join([arrested, domestic],how='outer')"
   ]
  },
  {
   "cell_type": "code",
   "execution_count": 339,
   "metadata": {},
   "outputs": [],
   "source": [
    "crimes['perc_arrested'] = round(crimes.arrested/crimes.total,2)\n",
    "crimes['perc_domestic'] = round(crimes.domestic/crimes.total,2)"
   ]
  },
  {
   "cell_type": "markdown",
   "metadata": {},
   "source": [
    "Статистика по преступлениях каждого типа в зависимости от года"
   ]
  },
  {
   "cell_type": "code",
   "execution_count": 342,
   "metadata": {},
   "outputs": [
    {
     "data": {
      "text/html": [
       "<div>\n",
       "<style scoped>\n",
       "    .dataframe tbody tr th:only-of-type {\n",
       "        vertical-align: middle;\n",
       "    }\n",
       "\n",
       "    .dataframe tbody tr th {\n",
       "        vertical-align: top;\n",
       "    }\n",
       "\n",
       "    .dataframe thead th {\n",
       "        text-align: right;\n",
       "    }\n",
       "</style>\n",
       "<table border=\"1\" class=\"dataframe\">\n",
       "  <thead>\n",
       "    <tr style=\"text-align: right;\">\n",
       "      <th></th>\n",
       "      <th></th>\n",
       "      <th>total</th>\n",
       "      <th>arrested</th>\n",
       "      <th>domestic</th>\n",
       "      <th>perc_arrested</th>\n",
       "      <th>perc_domestic</th>\n",
       "    </tr>\n",
       "    <tr>\n",
       "      <th>primary_type</th>\n",
       "      <th>year</th>\n",
       "      <th></th>\n",
       "      <th></th>\n",
       "      <th></th>\n",
       "      <th></th>\n",
       "      <th></th>\n",
       "    </tr>\n",
       "  </thead>\n",
       "  <tbody>\n",
       "    <tr>\n",
       "      <th rowspan=\"2\" valign=\"top\">ARSON</th>\n",
       "      <th>2019</th>\n",
       "      <td>375</td>\n",
       "      <td>42</td>\n",
       "      <td>20.0</td>\n",
       "      <td>0.11</td>\n",
       "      <td>0.05</td>\n",
       "    </tr>\n",
       "    <tr>\n",
       "      <th>2020</th>\n",
       "      <td>586</td>\n",
       "      <td>39</td>\n",
       "      <td>23.0</td>\n",
       "      <td>0.07</td>\n",
       "      <td>0.04</td>\n",
       "    </tr>\n",
       "    <tr>\n",
       "      <th>ASSAULT</th>\n",
       "      <th>2019</th>\n",
       "      <td>20617</td>\n",
       "      <td>3741</td>\n",
       "      <td>5283.0</td>\n",
       "      <td>0.18</td>\n",
       "      <td>0.26</td>\n",
       "    </tr>\n",
       "  </tbody>\n",
       "</table>\n",
       "</div>"
      ],
      "text/plain": [
       "                   total  arrested  domestic  perc_arrested  perc_domestic\n",
       "primary_type year                                                         \n",
       "ARSON        2019    375        42      20.0           0.11           0.05\n",
       "             2020    586        39      23.0           0.07           0.04\n",
       "ASSAULT      2019  20617      3741    5283.0           0.18           0.26"
      ]
     },
     "execution_count": 342,
     "metadata": {},
     "output_type": "execute_result"
    }
   ],
   "source": [
    "crimes.head(3)"
   ]
  },
  {
   "cell_type": "markdown",
   "metadata": {},
   "source": [
    "Посчитаем и визуализируем некоторые статистики по годам:"
   ]
  },
  {
   "cell_type": "code",
   "execution_count": 408,
   "metadata": {},
   "outputs": [
    {
     "data": {
      "text/html": [
       "<div>\n",
       "<style scoped>\n",
       "    .dataframe tbody tr th:only-of-type {\n",
       "        vertical-align: middle;\n",
       "    }\n",
       "\n",
       "    .dataframe tbody tr th {\n",
       "        vertical-align: top;\n",
       "    }\n",
       "\n",
       "    .dataframe thead tr th {\n",
       "        text-align: left;\n",
       "    }\n",
       "</style>\n",
       "<table border=\"1\" class=\"dataframe\">\n",
       "  <thead>\n",
       "    <tr>\n",
       "      <th></th>\n",
       "      <th>year</th>\n",
       "      <th colspan=\"2\" halign=\"left\">total</th>\n",
       "      <th>perc_arrested</th>\n",
       "      <th>perc_domestic</th>\n",
       "    </tr>\n",
       "    <tr>\n",
       "      <th></th>\n",
       "      <th></th>\n",
       "      <th>sum</th>\n",
       "      <th>median</th>\n",
       "      <th>median</th>\n",
       "      <th>median</th>\n",
       "    </tr>\n",
       "  </thead>\n",
       "  <tbody>\n",
       "    <tr>\n",
       "      <th>0</th>\n",
       "      <td>2019</td>\n",
       "      <td>260771</td>\n",
       "      <td>1619.0</td>\n",
       "      <td>0.18</td>\n",
       "      <td>0.05</td>\n",
       "    </tr>\n",
       "    <tr>\n",
       "      <th>1</th>\n",
       "      <td>2020</td>\n",
       "      <td>211269</td>\n",
       "      <td>1270.0</td>\n",
       "      <td>0.13</td>\n",
       "      <td>0.07</td>\n",
       "    </tr>\n",
       "  </tbody>\n",
       "</table>\n",
       "</div>"
      ],
      "text/plain": [
       "   year   total         perc_arrested perc_domestic\n",
       "            sum  median        median        median\n",
       "0  2019  260771  1619.0          0.18          0.05\n",
       "1  2020  211269  1270.0          0.13          0.07"
      ]
     },
     "execution_count": 408,
     "metadata": {},
     "output_type": "execute_result"
    }
   ],
   "source": [
    "stats_by_year = crimes.groupby(level=1).aggregate({'total': ['sum','median'],'perc_arrested': 'median',\n",
    "                                                  'perc_domestic': 'median'}).reset_index()\n",
    "stats_by_year"
   ]
  },
  {
   "cell_type": "code",
   "execution_count": 344,
   "metadata": {},
   "outputs": [
    {
     "data": {
      "text/html": [
       "<div>\n",
       "<style scoped>\n",
       "    .dataframe tbody tr th:only-of-type {\n",
       "        vertical-align: middle;\n",
       "    }\n",
       "\n",
       "    .dataframe tbody tr th {\n",
       "        vertical-align: top;\n",
       "    }\n",
       "\n",
       "    .dataframe thead th {\n",
       "        text-align: right;\n",
       "    }\n",
       "</style>\n",
       "<table border=\"1\" class=\"dataframe\">\n",
       "  <thead>\n",
       "    <tr style=\"text-align: right;\">\n",
       "      <th></th>\n",
       "      <th>primary_type</th>\n",
       "      <th>year</th>\n",
       "      <th>total</th>\n",
       "      <th>arrested</th>\n",
       "      <th>domestic</th>\n",
       "      <th>perc_arrested</th>\n",
       "      <th>perc_domestic</th>\n",
       "    </tr>\n",
       "  </thead>\n",
       "  <tbody>\n",
       "    <tr>\n",
       "      <th>50</th>\n",
       "      <td>THEFT</td>\n",
       "      <td>2019</td>\n",
       "      <td>62452</td>\n",
       "      <td>6108</td>\n",
       "      <td>2355.0</td>\n",
       "      <td>0.10</td>\n",
       "      <td>0.04</td>\n",
       "    </tr>\n",
       "    <tr>\n",
       "      <th>4</th>\n",
       "      <td>BATTERY</td>\n",
       "      <td>2019</td>\n",
       "      <td>49508</td>\n",
       "      <td>10392</td>\n",
       "      <td>23858.0</td>\n",
       "      <td>0.21</td>\n",
       "      <td>0.48</td>\n",
       "    </tr>\n",
       "    <tr>\n",
       "      <th>5</th>\n",
       "      <td>BATTERY</td>\n",
       "      <td>2020</td>\n",
       "      <td>41485</td>\n",
       "      <td>6869</td>\n",
       "      <td>21522.0</td>\n",
       "      <td>0.17</td>\n",
       "      <td>0.52</td>\n",
       "    </tr>\n",
       "  </tbody>\n",
       "</table>\n",
       "</div>"
      ],
      "text/plain": [
       "   primary_type  year  total  arrested  domestic  perc_arrested  perc_domestic\n",
       "50        THEFT  2019  62452      6108    2355.0           0.10           0.04\n",
       "4       BATTERY  2019  49508     10392   23858.0           0.21           0.48\n",
       "5       BATTERY  2020  41485      6869   21522.0           0.17           0.52"
      ]
     },
     "execution_count": 344,
     "metadata": {},
     "output_type": "execute_result"
    }
   ],
   "source": [
    "v = crimes.reset_index().sort_values(by='total',ascending=False)\n",
    "v.head(3)"
   ]
  },
  {
   "cell_type": "code",
   "execution_count": 413,
   "metadata": {},
   "outputs": [
    {
     "data": {
      "image/png": "[encoded data removed]",
      "text/plain": [
       "<Figure size 1080x288 with 3 Axes>"
      ]
     },
     "metadata": {},
     "output_type": "display_data"
    }
   ],
   "source": [
    "fig,axes = plt.subplots(1,3,figsize=(15,4),gridspec_kw={'width_ratios': [0.1, 0.4,0.5]})\n",
    "sns.barplot(data=stats_by_year,x='year',y=stats_by_year.columns[1],ax=axes[0]).set(xlabel=None,ylabel=None)\n",
    "sns.barplot(data=v.head(24),x='total',y='primary_type',hue='year',orient='h',ax=axes[1]).set(xlabel=None,ylabel=None)\n",
    "sns.barplot(data=v.sort_values(by='total').head(30),x='total',y='primary_type',hue='year',orient='h',ax=axes[2]).set(xlabel=None,ylabel=None)\n",
    "axes[0].set_xlabel('Всего преступлений')\n",
    "axes[1].set_xlabel('Наиболее распространенные типы')\n",
    "axes[2].set_xlabel('Наименее распространенные типы')\n",
    "plt.tight_layout()\n",
    "plt.savefig(\"total_stats\")"
   ]
  },
  {
   "cell_type": "code",
   "execution_count": 346,
   "metadata": {},
   "outputs": [],
   "source": [
    "names=['Всего преступлений','Процент арестованных','Процент совершенных знакомыми']"
   ]
  },
  {
   "cell_type": "code",
   "execution_count": 347,
   "metadata": {},
   "outputs": [
    {
     "data": {
      "image/png": "[encoded data removed]",
      "text/plain": [
       "<Figure size 1080x288 with 3 Axes>"
      ]
     },
     "metadata": {},
     "output_type": "display_data"
    }
   ],
   "source": [
    "fig,axes = plt.subplots(1,3,figsize=(15,4),gridspec_kw={'width_ratios': [0.1,0.4,0.5]})\n",
    "sns.barplot(data=stats_by_year,x='year',y=stats_by_year.columns[3],ax=axes[0]).set(xlabel=None,ylabel=None)\n",
    "sns.barplot(data=v.sort_values(by='perc_arrested',ascending=False).\\\n",
    "                               head(22),x='perc_arrested',y='primary_type',hue='year',orient='h',ax=axes[1]).set(xlabel=None,ylabel=None)\n",
    "sns.barplot(data=v.sort_values(by='perc_arrested',ascending=True).\\\n",
    "                               head(32),x='perc_arrested',y='primary_type',hue='year',orient='h',ax=axes[2]).set(xlabel=None,ylabel=None)\n",
    "axes[0].set_xlabel('Медиана раскрываемости')\n",
    "axes[1].set_xlabel('Наиболее раскрываемые преступления')\n",
    "axes[2].set_xlabel('Наименее раскрываемые преступления')\n",
    "plt.tight_layout()\n"
   ]
  },
  {
   "cell_type": "code",
   "execution_count": 348,
   "metadata": {},
   "outputs": [
    {
     "data": {
      "image/png": "[encoded data removed]",
      "text/plain": [
       "<Figure size 1080x288 with 2 Axes>"
      ]
     },
     "metadata": {},
     "output_type": "display_data"
    }
   ],
   "source": [
    "fig,axes = plt.subplots(1,2,figsize=(15,4),gridspec_kw={'width_ratios': [0.1,0.9]})\n",
    "sns.barplot(data=stats_by_year,x='year',y=stats_by_year.columns[4],ax=axes[0]).set(xlabel=None,ylabel=None)\n",
    "sns.barplot(data=v.sort_values(by='perc_domestic',ascending=False).\\\n",
    "                               head(26),x='perc_domestic',y='primary_type',hue='year',orient='h',ax=axes[1]).set(xlabel=None,ylabel=None)\n",
    "axes[0].set_xlabel('Медиана')\n",
    "axes[1].set_xlabel('Наиболее \"домашние\"')\n",
    "plt.tight_layout()"
   ]
  },
  {
   "cell_type": "code",
   "execution_count": 349,
   "metadata": {},
   "outputs": [
    {
     "data": {
      "text/html": [
       "<div>\n",
       "<style scoped>\n",
       "    .dataframe tbody tr th:only-of-type {\n",
       "        vertical-align: middle;\n",
       "    }\n",
       "\n",
       "    .dataframe tbody tr th {\n",
       "        vertical-align: top;\n",
       "    }\n",
       "\n",
       "    .dataframe thead th {\n",
       "        text-align: right;\n",
       "    }\n",
       "</style>\n",
       "<table border=\"1\" class=\"dataframe\">\n",
       "  <thead>\n",
       "    <tr style=\"text-align: right;\">\n",
       "      <th></th>\n",
       "      <th>2019</th>\n",
       "      <th>2020</th>\n",
       "      <th>2019</th>\n",
       "      <th>2020</th>\n",
       "      <th>2019</th>\n",
       "      <th>2020</th>\n",
       "    </tr>\n",
       "    <tr>\n",
       "      <th>primary_type</th>\n",
       "      <th></th>\n",
       "      <th></th>\n",
       "      <th></th>\n",
       "      <th></th>\n",
       "      <th></th>\n",
       "      <th></th>\n",
       "    </tr>\n",
       "  </thead>\n",
       "  <tbody>\n",
       "    <tr>\n",
       "      <th>ARSON</th>\n",
       "      <td>375</td>\n",
       "      <td>586</td>\n",
       "      <td>0.11</td>\n",
       "      <td>0.07</td>\n",
       "      <td>0.05</td>\n",
       "      <td>0.04</td>\n",
       "    </tr>\n",
       "    <tr>\n",
       "      <th>ASSAULT</th>\n",
       "      <td>20617</td>\n",
       "      <td>18248</td>\n",
       "      <td>0.18</td>\n",
       "      <td>0.13</td>\n",
       "      <td>0.26</td>\n",
       "      <td>0.27</td>\n",
       "    </tr>\n",
       "    <tr>\n",
       "      <th>BATTERY</th>\n",
       "      <td>49508</td>\n",
       "      <td>41485</td>\n",
       "      <td>0.21</td>\n",
       "      <td>0.17</td>\n",
       "      <td>0.48</td>\n",
       "      <td>0.52</td>\n",
       "    </tr>\n",
       "    <tr>\n",
       "      <th>BURGLARY</th>\n",
       "      <td>9638</td>\n",
       "      <td>8744</td>\n",
       "      <td>0.06</td>\n",
       "      <td>0.06</td>\n",
       "      <td>0.02</td>\n",
       "      <td>0.02</td>\n",
       "    </tr>\n",
       "    <tr>\n",
       "      <th>CONCEALED CARRY LICENSE VIOLATION</th>\n",
       "      <td>217</td>\n",
       "      <td>148</td>\n",
       "      <td>0.98</td>\n",
       "      <td>0.97</td>\n",
       "      <td>NaN</td>\n",
       "      <td>NaN</td>\n",
       "    </tr>\n",
       "  </tbody>\n",
       "</table>\n",
       "</div>"
      ],
      "text/plain": [
       "                                    2019   2020  2019  2020  2019  2020\n",
       "primary_type                                                           \n",
       "ARSON                                375    586  0.11  0.07  0.05  0.04\n",
       "ASSAULT                            20617  18248  0.18  0.13  0.26  0.27\n",
       "BATTERY                            49508  41485  0.21  0.17  0.48  0.52\n",
       "BURGLARY                            9638   8744  0.06  0.06  0.02  0.02\n",
       "CONCEALED CARRY LICENSE VIOLATION    217    148  0.98  0.97   NaN   NaN"
      ]
     },
     "execution_count": 349,
     "metadata": {},
     "output_type": "execute_result"
    }
   ],
   "source": [
    "cat_table = crimes.unstack().iloc[:,[0,1,6,7,8,9]]\n",
    "cat_table.columns = [2019,2020]*3\n",
    "cat_table.head()"
   ]
  },
  {
   "cell_type": "code",
   "execution_count": 350,
   "metadata": {
    "scrolled": true
   },
   "outputs": [
    {
     "data": {
      "image/png": "[encoded data removed]",
      "text/plain": [
       "<Figure size 864x288 with 3 Axes>"
      ]
     },
     "metadata": {},
     "output_type": "display_data"
    }
   ],
   "source": [
    "fig,axes = plt.subplots(1,3,figsize=(12,4))\n",
    "for i in range(3):\n",
    "    sns.stripplot(data=cat_table.iloc[:,2*i:2*i+2],ax=axes[i],palette='pastel');\n",
    "    axes[i].set_xlabel(names[i])"
   ]
  },
  {
   "cell_type": "markdown",
   "metadata": {},
   "source": [
    "Загрузим данные по количеству преступлений в зависимости от типа и района по 2019 и 2020 годам:"
   ]
  },
  {
   "cell_type": "code",
   "execution_count": 351,
   "metadata": {},
   "outputs": [],
   "source": [
    "crimes_distr_2019_tab = client.query(\"\"\"\n",
    "SELECT district, primary_type, COUNT(unique_key) AS total\n",
    "FROM bigquery-public-data.chicago_crime.crime\n",
    "WHERE (year = 2019) AND (district != 31)\n",
    "AND primary_type NOT IN\n",
    "(SELECT primary_type FROM bigquery-public-data.chicago_crime.crime\n",
    "GROUP BY primary_type,year HAVING(COUNT(unique_key)<20 AND (YEAR = 2019 OR YEAR = 2020)))\n",
    "GROUP BY district, primary_type\n",
    "\"\"\").result().to_dataframe()"
   ]
  },
  {
   "cell_type": "code",
   "execution_count": 352,
   "metadata": {},
   "outputs": [],
   "source": [
    "crimes_distr_2020_tab = client.query(\"\"\"\n",
    "SELECT district, primary_type, COUNT(unique_key) AS total\n",
    "FROM bigquery-public-data.chicago_crime.crime\n",
    "WHERE year = 2020 AND (district != 31)\n",
    "AND primary_type NOT IN\n",
    "(SELECT primary_type FROM bigquery-public-data.chicago_crime.crime\n",
    "GROUP BY primary_type,year HAVING(COUNT(unique_key)<20 AND (YEAR = 2019 OR YEAR = 2020)))\n",
    "GROUP BY district, primary_type\n",
    "\"\"\").result().to_dataframe()"
   ]
  },
  {
   "cell_type": "code",
   "execution_count": 353,
   "metadata": {},
   "outputs": [],
   "source": [
    "crimes_distr_2019 = crimes_distr_2019_tab.pivot_table(index='district',columns='primary_type', values='total',\n",
    "                                                 fill_value=0)\n",
    "crimes_distr_2019['CRIMINAL SEXUAL ASSAULT']+=crimes_distr_2019['CRIM SEXUAL ASSAULT']\n",
    "crimes_distr_2019 = crimes_distr_2019.drop(columns='CRIM SEXUAL ASSAULT');"
   ]
  },
  {
   "cell_type": "code",
   "execution_count": 354,
   "metadata": {},
   "outputs": [
    {
     "data": {
      "text/html": [
       "<div>\n",
       "<style scoped>\n",
       "    .dataframe tbody tr th:only-of-type {\n",
       "        vertical-align: middle;\n",
       "    }\n",
       "\n",
       "    .dataframe tbody tr th {\n",
       "        vertical-align: top;\n",
       "    }\n",
       "\n",
       "    .dataframe thead th {\n",
       "        text-align: right;\n",
       "    }\n",
       "</style>\n",
       "<table border=\"1\" class=\"dataframe\">\n",
       "  <thead>\n",
       "    <tr style=\"text-align: right;\">\n",
       "      <th>primary_type</th>\n",
       "      <th>ARSON</th>\n",
       "      <th>ASSAULT</th>\n",
       "      <th>BATTERY</th>\n",
       "      <th>BURGLARY</th>\n",
       "      <th>CONCEALED CARRY LICENSE VIOLATION</th>\n",
       "      <th>CRIMINAL DAMAGE</th>\n",
       "      <th>CRIMINAL SEXUAL ASSAULT</th>\n",
       "      <th>CRIMINAL TRESPASS</th>\n",
       "      <th>DECEPTIVE PRACTICE</th>\n",
       "      <th>GAMBLING</th>\n",
       "      <th>...</th>\n",
       "      <th>OBSCENITY</th>\n",
       "      <th>OFFENSE INVOLVING CHILDREN</th>\n",
       "      <th>OTHER OFFENSE</th>\n",
       "      <th>PROSTITUTION</th>\n",
       "      <th>PUBLIC PEACE VIOLATION</th>\n",
       "      <th>ROBBERY</th>\n",
       "      <th>SEX OFFENSE</th>\n",
       "      <th>STALKING</th>\n",
       "      <th>THEFT</th>\n",
       "      <th>WEAPONS VIOLATION</th>\n",
       "    </tr>\n",
       "    <tr>\n",
       "      <th>district</th>\n",
       "      <th></th>\n",
       "      <th></th>\n",
       "      <th></th>\n",
       "      <th></th>\n",
       "      <th></th>\n",
       "      <th></th>\n",
       "      <th></th>\n",
       "      <th></th>\n",
       "      <th></th>\n",
       "      <th></th>\n",
       "      <th></th>\n",
       "      <th></th>\n",
       "      <th></th>\n",
       "      <th></th>\n",
       "      <th></th>\n",
       "      <th></th>\n",
       "      <th></th>\n",
       "      <th></th>\n",
       "      <th></th>\n",
       "      <th></th>\n",
       "      <th></th>\n",
       "    </tr>\n",
       "  </thead>\n",
       "  <tbody>\n",
       "    <tr>\n",
       "      <th>1</th>\n",
       "      <td>2</td>\n",
       "      <td>882</td>\n",
       "      <td>1776</td>\n",
       "      <td>162</td>\n",
       "      <td>6</td>\n",
       "      <td>765</td>\n",
       "      <td>58</td>\n",
       "      <td>555</td>\n",
       "      <td>2087</td>\n",
       "      <td>1</td>\n",
       "      <td>...</td>\n",
       "      <td>4</td>\n",
       "      <td>26</td>\n",
       "      <td>528</td>\n",
       "      <td>0</td>\n",
       "      <td>91</td>\n",
       "      <td>366</td>\n",
       "      <td>53</td>\n",
       "      <td>12</td>\n",
       "      <td>7345</td>\n",
       "      <td>51</td>\n",
       "    </tr>\n",
       "    <tr>\n",
       "      <th>2</th>\n",
       "      <td>6</td>\n",
       "      <td>988</td>\n",
       "      <td>2294</td>\n",
       "      <td>308</td>\n",
       "      <td>3</td>\n",
       "      <td>1120</td>\n",
       "      <td>70</td>\n",
       "      <td>258</td>\n",
       "      <td>780</td>\n",
       "      <td>1</td>\n",
       "      <td>...</td>\n",
       "      <td>8</td>\n",
       "      <td>104</td>\n",
       "      <td>942</td>\n",
       "      <td>11</td>\n",
       "      <td>51</td>\n",
       "      <td>360</td>\n",
       "      <td>62</td>\n",
       "      <td>15</td>\n",
       "      <td>2649</td>\n",
       "      <td>233</td>\n",
       "    </tr>\n",
       "    <tr>\n",
       "      <th>3</th>\n",
       "      <td>12</td>\n",
       "      <td>1174</td>\n",
       "      <td>3062</td>\n",
       "      <td>595</td>\n",
       "      <td>9</td>\n",
       "      <td>1477</td>\n",
       "      <td>97</td>\n",
       "      <td>302</td>\n",
       "      <td>618</td>\n",
       "      <td>4</td>\n",
       "      <td>...</td>\n",
       "      <td>1</td>\n",
       "      <td>167</td>\n",
       "      <td>948</td>\n",
       "      <td>1</td>\n",
       "      <td>70</td>\n",
       "      <td>453</td>\n",
       "      <td>56</td>\n",
       "      <td>15</td>\n",
       "      <td>2060</td>\n",
       "      <td>324</td>\n",
       "    </tr>\n",
       "  </tbody>\n",
       "</table>\n",
       "<p>3 rows × 27 columns</p>\n",
       "</div>"
      ],
      "text/plain": [
       "primary_type  ARSON  ASSAULT  BATTERY  BURGLARY  \\\n",
       "district                                          \n",
       "1                 2      882     1776       162   \n",
       "2                 6      988     2294       308   \n",
       "3                12     1174     3062       595   \n",
       "\n",
       "primary_type  CONCEALED CARRY LICENSE VIOLATION  CRIMINAL DAMAGE  \\\n",
       "district                                                           \n",
       "1                                             6              765   \n",
       "2                                             3             1120   \n",
       "3                                             9             1477   \n",
       "\n",
       "primary_type  CRIMINAL SEXUAL ASSAULT  CRIMINAL TRESPASS  DECEPTIVE PRACTICE  \\\n",
       "district                                                                       \n",
       "1                                  58                555                2087   \n",
       "2                                  70                258                 780   \n",
       "3                                  97                302                 618   \n",
       "\n",
       "primary_type  GAMBLING  ...  OBSCENITY  OFFENSE INVOLVING CHILDREN  \\\n",
       "district                ...                                          \n",
       "1                    1  ...          4                          26   \n",
       "2                    1  ...          8                         104   \n",
       "3                    4  ...          1                         167   \n",
       "\n",
       "primary_type  OTHER OFFENSE  PROSTITUTION  PUBLIC PEACE VIOLATION  ROBBERY  \\\n",
       "district                                                                     \n",
       "1                       528             0                      91      366   \n",
       "2                       942            11                      51      360   \n",
       "3                       948             1                      70      453   \n",
       "\n",
       "primary_type  SEX OFFENSE  STALKING  THEFT  WEAPONS VIOLATION  \n",
       "district                                                       \n",
       "1                      53        12   7345                 51  \n",
       "2                      62        15   2649                233  \n",
       "3                      56        15   2060                324  \n",
       "\n",
       "[3 rows x 27 columns]"
      ]
     },
     "execution_count": 354,
     "metadata": {},
     "output_type": "execute_result"
    }
   ],
   "source": [
    "crimes_distr_2019.head(3)"
   ]
  },
  {
   "cell_type": "code",
   "execution_count": 355,
   "metadata": {},
   "outputs": [],
   "source": [
    "crimes_distr_2020 = crimes_distr_2020_tab.pivot_table(index='district',columns='primary_type', values='total',\n",
    "                                                 fill_value=0)\n",
    "crimes_distr_2020['CRIMINAL SEXUAL ASSAULT']+=crimes_distr_2020['CRIM SEXUAL ASSAULT']\n",
    "crimes_distr_2020 = crimes_distr_2020.drop(columns=['CRIM SEXUAL ASSAULT']);"
   ]
  },
  {
   "cell_type": "code",
   "execution_count": 356,
   "metadata": {
    "scrolled": true
   },
   "outputs": [
    {
     "data": {
      "text/html": [
       "<div>\n",
       "<style scoped>\n",
       "    .dataframe tbody tr th:only-of-type {\n",
       "        vertical-align: middle;\n",
       "    }\n",
       "\n",
       "    .dataframe tbody tr th {\n",
       "        vertical-align: top;\n",
       "    }\n",
       "\n",
       "    .dataframe thead th {\n",
       "        text-align: right;\n",
       "    }\n",
       "</style>\n",
       "<table border=\"1\" class=\"dataframe\">\n",
       "  <thead>\n",
       "    <tr style=\"text-align: right;\">\n",
       "      <th>primary_type</th>\n",
       "      <th>ARSON</th>\n",
       "      <th>ASSAULT</th>\n",
       "      <th>BATTERY</th>\n",
       "      <th>BURGLARY</th>\n",
       "      <th>CONCEALED CARRY LICENSE VIOLATION</th>\n",
       "      <th>CRIMINAL DAMAGE</th>\n",
       "      <th>CRIMINAL SEXUAL ASSAULT</th>\n",
       "      <th>CRIMINAL TRESPASS</th>\n",
       "      <th>DECEPTIVE PRACTICE</th>\n",
       "      <th>GAMBLING</th>\n",
       "      <th>...</th>\n",
       "      <th>OBSCENITY</th>\n",
       "      <th>OFFENSE INVOLVING CHILDREN</th>\n",
       "      <th>OTHER OFFENSE</th>\n",
       "      <th>PROSTITUTION</th>\n",
       "      <th>PUBLIC PEACE VIOLATION</th>\n",
       "      <th>ROBBERY</th>\n",
       "      <th>SEX OFFENSE</th>\n",
       "      <th>STALKING</th>\n",
       "      <th>THEFT</th>\n",
       "      <th>WEAPONS VIOLATION</th>\n",
       "    </tr>\n",
       "    <tr>\n",
       "      <th>district</th>\n",
       "      <th></th>\n",
       "      <th></th>\n",
       "      <th></th>\n",
       "      <th></th>\n",
       "      <th></th>\n",
       "      <th></th>\n",
       "      <th></th>\n",
       "      <th></th>\n",
       "      <th></th>\n",
       "      <th></th>\n",
       "      <th></th>\n",
       "      <th></th>\n",
       "      <th></th>\n",
       "      <th></th>\n",
       "      <th></th>\n",
       "      <th></th>\n",
       "      <th></th>\n",
       "      <th></th>\n",
       "      <th></th>\n",
       "      <th></th>\n",
       "      <th></th>\n",
       "    </tr>\n",
       "  </thead>\n",
       "  <tbody>\n",
       "    <tr>\n",
       "      <th>1</th>\n",
       "      <td>19</td>\n",
       "      <td>530</td>\n",
       "      <td>1220</td>\n",
       "      <td>374</td>\n",
       "      <td>1</td>\n",
       "      <td>639</td>\n",
       "      <td>50</td>\n",
       "      <td>315</td>\n",
       "      <td>1006</td>\n",
       "      <td>0</td>\n",
       "      <td>...</td>\n",
       "      <td>1</td>\n",
       "      <td>22</td>\n",
       "      <td>324</td>\n",
       "      <td>2</td>\n",
       "      <td>88</td>\n",
       "      <td>289</td>\n",
       "      <td>30</td>\n",
       "      <td>5</td>\n",
       "      <td>2748</td>\n",
       "      <td>182</td>\n",
       "    </tr>\n",
       "    <tr>\n",
       "      <th>2</th>\n",
       "      <td>17</td>\n",
       "      <td>934</td>\n",
       "      <td>1884</td>\n",
       "      <td>298</td>\n",
       "      <td>3</td>\n",
       "      <td>1118</td>\n",
       "      <td>49</td>\n",
       "      <td>132</td>\n",
       "      <td>822</td>\n",
       "      <td>0</td>\n",
       "      <td>...</td>\n",
       "      <td>3</td>\n",
       "      <td>98</td>\n",
       "      <td>721</td>\n",
       "      <td>9</td>\n",
       "      <td>99</td>\n",
       "      <td>336</td>\n",
       "      <td>35</td>\n",
       "      <td>18</td>\n",
       "      <td>1856</td>\n",
       "      <td>298</td>\n",
       "    </tr>\n",
       "    <tr>\n",
       "      <th>3</th>\n",
       "      <td>25</td>\n",
       "      <td>1120</td>\n",
       "      <td>2648</td>\n",
       "      <td>516</td>\n",
       "      <td>0</td>\n",
       "      <td>1538</td>\n",
       "      <td>60</td>\n",
       "      <td>176</td>\n",
       "      <td>602</td>\n",
       "      <td>0</td>\n",
       "      <td>...</td>\n",
       "      <td>2</td>\n",
       "      <td>132</td>\n",
       "      <td>693</td>\n",
       "      <td>0</td>\n",
       "      <td>68</td>\n",
       "      <td>390</td>\n",
       "      <td>32</td>\n",
       "      <td>9</td>\n",
       "      <td>1615</td>\n",
       "      <td>553</td>\n",
       "    </tr>\n",
       "  </tbody>\n",
       "</table>\n",
       "<p>3 rows × 27 columns</p>\n",
       "</div>"
      ],
      "text/plain": [
       "primary_type  ARSON  ASSAULT  BATTERY  BURGLARY  \\\n",
       "district                                          \n",
       "1                19      530     1220       374   \n",
       "2                17      934     1884       298   \n",
       "3                25     1120     2648       516   \n",
       "\n",
       "primary_type  CONCEALED CARRY LICENSE VIOLATION  CRIMINAL DAMAGE  \\\n",
       "district                                                           \n",
       "1                                             1              639   \n",
       "2                                             3             1118   \n",
       "3                                             0             1538   \n",
       "\n",
       "primary_type  CRIMINAL SEXUAL ASSAULT  CRIMINAL TRESPASS  DECEPTIVE PRACTICE  \\\n",
       "district                                                                       \n",
       "1                                  50                315                1006   \n",
       "2                                  49                132                 822   \n",
       "3                                  60                176                 602   \n",
       "\n",
       "primary_type  GAMBLING  ...  OBSCENITY  OFFENSE INVOLVING CHILDREN  \\\n",
       "district                ...                                          \n",
       "1                    0  ...          1                          22   \n",
       "2                    0  ...          3                          98   \n",
       "3                    0  ...          2                         132   \n",
       "\n",
       "primary_type  OTHER OFFENSE  PROSTITUTION  PUBLIC PEACE VIOLATION  ROBBERY  \\\n",
       "district                                                                     \n",
       "1                       324             2                      88      289   \n",
       "2                       721             9                      99      336   \n",
       "3                       693             0                      68      390   \n",
       "\n",
       "primary_type  SEX OFFENSE  STALKING  THEFT  WEAPONS VIOLATION  \n",
       "district                                                       \n",
       "1                      30         5   2748                182  \n",
       "2                      35        18   1856                298  \n",
       "3                      32         9   1615                553  \n",
       "\n",
       "[3 rows x 27 columns]"
      ]
     },
     "execution_count": 356,
     "metadata": {},
     "output_type": "execute_result"
    }
   ],
   "source": [
    "crimes_distr_2020.head(3)"
   ]
  },
  {
   "cell_type": "markdown",
   "metadata": {},
   "source": [
    "### Изменения по количеству преступлений"
   ]
  },
  {
   "cell_type": "markdown",
   "metadata": {},
   "source": [
    "Воспользуемся t-критерием Стьюдента для проверки значимости изменений по типам преступлений"
   ]
  },
  {
   "cell_type": "code",
   "execution_count": 357,
   "metadata": {},
   "outputs": [],
   "source": [
    "from scipy.stats import shapiro, ttest_ind, levene"
   ]
  },
  {
   "cell_type": "markdown",
   "metadata": {},
   "source": [
    "Отберем признаки, имеющие нормальное распределение с помощью критерия Шапиро-Уилка:"
   ]
  },
  {
   "cell_type": "code",
   "execution_count": 358,
   "metadata": {},
   "outputs": [],
   "source": [
    "norm_2019 = set()\n",
    "for col in crimes_distr_2019:\n",
    "    if shapiro(crimes_distr_2019[col])[1]>0.01:\n",
    "        norm_2019.add(col)"
   ]
  },
  {
   "cell_type": "code",
   "execution_count": 359,
   "metadata": {},
   "outputs": [],
   "source": [
    "norm_2020 = set()\n",
    "for col in crimes_distr_2020:\n",
    "    if shapiro(crimes_distr_2020[col])[1]>0.01:\n",
    "        norm_2020.add(col)"
   ]
  },
  {
   "cell_type": "code",
   "execution_count": 360,
   "metadata": {},
   "outputs": [
    {
     "name": "stdout",
     "output_type": "stream",
     "text": [
      "{'INTIMIDATION'}\n",
      "{'PUBLIC PEACE VIOLATION', 'DECEPTIVE PRACTICE', 'THEFT', 'CONCEALED CARRY LICENSE VIOLATION'}\n"
     ]
    }
   ],
   "source": [
    "print(norm_2019.difference(norm_2020))\n",
    "print(norm_2020.difference(norm_2019))"
   ]
  },
  {
   "cell_type": "code",
   "execution_count": 361,
   "metadata": {},
   "outputs": [],
   "source": [
    "normal_columns = norm_2019.intersection(norm_2020)"
   ]
  },
  {
   "cell_type": "code",
   "execution_count": 362,
   "metadata": {},
   "outputs": [],
   "source": [
    "changed_total = []\n",
    "for col in normal_columns:\n",
    "    if levene(crimes_distr_2020[col],crimes_distr_2019[col])[1]>0.05:\n",
    "        t_val = ttest_ind(crimes_distr_2020[col],crimes_distr_2019[col], equal_var=True)[1]\n",
    "        if t_val < 0.025 or t_val>1-0.025:\n",
    "            changed_total.append(col)\n",
    "    else:\n",
    "        t_val = ttest_ind(crimes_distr_2020[col],crimes_distr_2019[col], equal_var=False)[1]\n",
    "        if t_val < 0.025 or t_val>1-0.025:\n",
    "            changed_total.append(col)"
   ]
  },
  {
   "cell_type": "markdown",
   "metadata": {},
   "source": [
    "Типы преступлений, показавшие значимые изменения в 2020 году:"
   ]
  },
  {
   "cell_type": "code",
   "execution_count": 363,
   "metadata": {},
   "outputs": [
    {
     "data": {
      "text/plain": [
       "['CRIMINAL SEXUAL ASSAULT',\n",
       " 'OTHER OFFENSE',\n",
       " 'SEX OFFENSE',\n",
       " 'INTERFERENCE WITH PUBLIC OFFICER',\n",
       " 'ARSON',\n",
       " 'CRIMINAL TRESPASS']"
      ]
     },
     "execution_count": 363,
     "metadata": {},
     "output_type": "execute_result"
    }
   ],
   "source": [
    "changed_total"
   ]
  },
  {
   "cell_type": "code",
   "execution_count": 364,
   "metadata": {},
   "outputs": [],
   "source": [
    "df1 = pd.DataFrame(crimes_distr_2019[changed_total].mean()).assign(year=2019).reset_index().rename(columns={0: 'total'})\n",
    "df2 = pd.DataFrame(crimes_distr_2020[changed_total].mean()).assign(year=2020).reset_index().rename(columns={0: 'total'})\n",
    "total_changed_to_plot = pd.concat([df1,df2]).reset_index().drop(columns='index')"
   ]
  },
  {
   "cell_type": "code",
   "execution_count": 365,
   "metadata": {},
   "outputs": [
    {
     "data": {
      "image/png": "[encoded data removed]",
      "text/plain": [
       "<Figure size 432x288 with 1 Axes>"
      ]
     },
     "metadata": {},
     "output_type": "display_data"
    }
   ],
   "source": [
    "sns.barplot(data=total_changed_to_plot, x='total',y='primary_type',hue='year')\\\n",
    "                            .set(xlabel='Среднее,\\nЗначимые изменения согласно t-test',\n",
    "                                 ylabel=None);"
   ]
  },
  {
   "cell_type": "markdown",
   "metadata": {},
   "source": [
    "Для типов, не имеющих нормальное распределение, воспользуемся критерием Уилкоксона"
   ]
  },
  {
   "cell_type": "code",
   "execution_count": 366,
   "metadata": {},
   "outputs": [],
   "source": [
    "from scipy.stats import wilcoxon"
   ]
  },
  {
   "cell_type": "code",
   "execution_count": 367,
   "metadata": {},
   "outputs": [],
   "source": [
    "not_normal_columns = crimes_distr_2020.columns.difference(normal_columns)"
   ]
  },
  {
   "cell_type": "code",
   "execution_count": 368,
   "metadata": {},
   "outputs": [],
   "source": [
    "changed_total = []\n",
    "for col in not_normal_columns:\n",
    "    w_val = wilcoxon(crimes_distr_2019[col],y=crimes_distr_2020[col], mode='approx')[1]\n",
    "    if w_val < 0.005 or w_val > 0.995:\n",
    "        changed_total.append(col)"
   ]
  },
  {
   "cell_type": "code",
   "execution_count": 369,
   "metadata": {},
   "outputs": [],
   "source": [
    "df1 = pd.DataFrame(crimes_distr_2019[changed_total].sum()).assign(year=2019).reset_index().rename(columns={0: 'total'})\n",
    "df2 = pd.DataFrame(crimes_distr_2020[changed_total].sum()).assign(year=2020).reset_index().rename(columns={0: 'total'})\n",
    "total_changed_to_plot = pd.concat([df1,df2]).reset_index().drop(columns='index')"
   ]
  },
  {
   "cell_type": "code",
   "execution_count": 370,
   "metadata": {},
   "outputs": [
    {
     "data": {
      "image/png": "[encoded data removed]",
      "text/plain": [
       "<Figure size 576x216 with 2 Axes>"
      ]
     },
     "metadata": {},
     "output_type": "display_data"
    }
   ],
   "source": [
    "fig, axes = plt.subplots(1,2,figsize=(8,3))\n",
    "sns.barplot(data=total_changed_to_plot.query('total>1000')\n",
    "            , x='total',y='primary_type',hue='year', ax=axes[0]).set(xlabel='Медиана,\\nЗначимые изменения по Уилкоксону'\n",
    "                                                                     ,ylabel=None)\n",
    "sns.barplot(data=total_changed_to_plot.query('total<1000')\n",
    "            , x='total',y='primary_type',hue='year', ax=axes[1]).set(xlabel='Медиана,\\nЗначимые изменения по Уилкоксону'\n",
    "                                                                     ,ylabel=None);\n",
    "plt.tight_layout()"
   ]
  },
  {
   "cell_type": "markdown",
   "metadata": {},
   "source": [
    "### Изменения в раскрываемости "
   ]
  },
  {
   "cell_type": "code",
   "execution_count": 371,
   "metadata": {},
   "outputs": [],
   "source": [
    "crimes_distr_2019_arrested_tab = client.query(\"\"\"\n",
    "SELECT district, primary_type, COUNT(unique_key) AS total\n",
    "FROM bigquery-public-data.chicago_crime.crime\n",
    "WHERE year = 2019 AND arrest = TRUE AND (district != 31)\n",
    "AND primary_type NOT IN\n",
    "(SELECT primary_type FROM bigquery-public-data.chicago_crime.crime\n",
    "GROUP BY primary_type,year HAVING(COUNT(unique_key)<20 AND (YEAR = 2019 OR YEAR = 2020)))\n",
    "GROUP BY district, primary_type\n",
    "\"\"\").result().to_dataframe()"
   ]
  },
  {
   "cell_type": "code",
   "execution_count": 372,
   "metadata": {},
   "outputs": [],
   "source": [
    "crimes_distr_2020_arrested_tab = client.query(\"\"\"\n",
    "SELECT district, primary_type, COUNT(unique_key) AS total\n",
    "FROM bigquery-public-data.chicago_crime.crime\n",
    "WHERE year = 2020 AND arrest = TRUE AND (district != 31)\n",
    "AND primary_type NOT IN\n",
    "(SELECT primary_type FROM bigquery-public-data.chicago_crime.crime\n",
    "GROUP BY primary_type,year HAVING(COUNT(unique_key)<20 AND (YEAR = 2019 OR YEAR = 2020)))\n",
    "GROUP BY district, primary_type\n",
    "\"\"\").result().to_dataframe()"
   ]
  },
  {
   "cell_type": "code",
   "execution_count": 373,
   "metadata": {},
   "outputs": [],
   "source": [
    "crimes_distr_2019_arrested = crimes_distr_2019_arrested_tab.pivot_table(index='district',columns='primary_type', values='total',\n",
    "                                                 fill_value=0)\n",
    "crimes_distr_2019_arrested['CRIMINAL SEXUAL ASSAULT']+=crimes_distr_2019_arrested['CRIM SEXUAL ASSAULT']\n",
    "crimes_distr_2019_arrested = crimes_distr_2019_arrested.drop(columns='CRIM SEXUAL ASSAULT');"
   ]
  },
  {
   "cell_type": "code",
   "execution_count": 374,
   "metadata": {},
   "outputs": [
    {
     "data": {
      "text/html": [
       "<div>\n",
       "<style scoped>\n",
       "    .dataframe tbody tr th:only-of-type {\n",
       "        vertical-align: middle;\n",
       "    }\n",
       "\n",
       "    .dataframe tbody tr th {\n",
       "        vertical-align: top;\n",
       "    }\n",
       "\n",
       "    .dataframe thead th {\n",
       "        text-align: right;\n",
       "    }\n",
       "</style>\n",
       "<table border=\"1\" class=\"dataframe\">\n",
       "  <thead>\n",
       "    <tr style=\"text-align: right;\">\n",
       "      <th>primary_type</th>\n",
       "      <th>ARSON</th>\n",
       "      <th>ASSAULT</th>\n",
       "      <th>BATTERY</th>\n",
       "      <th>BURGLARY</th>\n",
       "      <th>CONCEALED CARRY LICENSE VIOLATION</th>\n",
       "      <th>CRIMINAL DAMAGE</th>\n",
       "      <th>CRIMINAL SEXUAL ASSAULT</th>\n",
       "      <th>CRIMINAL TRESPASS</th>\n",
       "      <th>DECEPTIVE PRACTICE</th>\n",
       "      <th>GAMBLING</th>\n",
       "      <th>...</th>\n",
       "      <th>OBSCENITY</th>\n",
       "      <th>OFFENSE INVOLVING CHILDREN</th>\n",
       "      <th>OTHER OFFENSE</th>\n",
       "      <th>PROSTITUTION</th>\n",
       "      <th>PUBLIC PEACE VIOLATION</th>\n",
       "      <th>ROBBERY</th>\n",
       "      <th>SEX OFFENSE</th>\n",
       "      <th>STALKING</th>\n",
       "      <th>THEFT</th>\n",
       "      <th>WEAPONS VIOLATION</th>\n",
       "    </tr>\n",
       "    <tr>\n",
       "      <th>district</th>\n",
       "      <th></th>\n",
       "      <th></th>\n",
       "      <th></th>\n",
       "      <th></th>\n",
       "      <th></th>\n",
       "      <th></th>\n",
       "      <th></th>\n",
       "      <th></th>\n",
       "      <th></th>\n",
       "      <th></th>\n",
       "      <th></th>\n",
       "      <th></th>\n",
       "      <th></th>\n",
       "      <th></th>\n",
       "      <th></th>\n",
       "      <th></th>\n",
       "      <th></th>\n",
       "      <th></th>\n",
       "      <th></th>\n",
       "      <th></th>\n",
       "      <th></th>\n",
       "    </tr>\n",
       "  </thead>\n",
       "  <tbody>\n",
       "    <tr>\n",
       "      <th>1</th>\n",
       "      <td>0</td>\n",
       "      <td>157</td>\n",
       "      <td>409</td>\n",
       "      <td>15</td>\n",
       "      <td>6</td>\n",
       "      <td>60</td>\n",
       "      <td>2</td>\n",
       "      <td>314</td>\n",
       "      <td>123</td>\n",
       "      <td>1</td>\n",
       "      <td>...</td>\n",
       "      <td>4</td>\n",
       "      <td>8</td>\n",
       "      <td>43</td>\n",
       "      <td>0</td>\n",
       "      <td>43</td>\n",
       "      <td>78</td>\n",
       "      <td>7</td>\n",
       "      <td>1</td>\n",
       "      <td>961</td>\n",
       "      <td>35</td>\n",
       "    </tr>\n",
       "    <tr>\n",
       "      <th>2</th>\n",
       "      <td>1</td>\n",
       "      <td>125</td>\n",
       "      <td>445</td>\n",
       "      <td>8</td>\n",
       "      <td>2</td>\n",
       "      <td>60</td>\n",
       "      <td>1</td>\n",
       "      <td>132</td>\n",
       "      <td>29</td>\n",
       "      <td>1</td>\n",
       "      <td>...</td>\n",
       "      <td>6</td>\n",
       "      <td>7</td>\n",
       "      <td>167</td>\n",
       "      <td>11</td>\n",
       "      <td>32</td>\n",
       "      <td>17</td>\n",
       "      <td>3</td>\n",
       "      <td>2</td>\n",
       "      <td>208</td>\n",
       "      <td>106</td>\n",
       "    </tr>\n",
       "    <tr>\n",
       "      <th>3</th>\n",
       "      <td>3</td>\n",
       "      <td>190</td>\n",
       "      <td>565</td>\n",
       "      <td>14</td>\n",
       "      <td>9</td>\n",
       "      <td>90</td>\n",
       "      <td>5</td>\n",
       "      <td>188</td>\n",
       "      <td>28</td>\n",
       "      <td>4</td>\n",
       "      <td>...</td>\n",
       "      <td>1</td>\n",
       "      <td>18</td>\n",
       "      <td>181</td>\n",
       "      <td>1</td>\n",
       "      <td>47</td>\n",
       "      <td>20</td>\n",
       "      <td>5</td>\n",
       "      <td>2</td>\n",
       "      <td>129</td>\n",
       "      <td>219</td>\n",
       "    </tr>\n",
       "  </tbody>\n",
       "</table>\n",
       "<p>3 rows × 27 columns</p>\n",
       "</div>"
      ],
      "text/plain": [
       "primary_type  ARSON  ASSAULT  BATTERY  BURGLARY  \\\n",
       "district                                          \n",
       "1                 0      157      409        15   \n",
       "2                 1      125      445         8   \n",
       "3                 3      190      565        14   \n",
       "\n",
       "primary_type  CONCEALED CARRY LICENSE VIOLATION  CRIMINAL DAMAGE  \\\n",
       "district                                                           \n",
       "1                                             6               60   \n",
       "2                                             2               60   \n",
       "3                                             9               90   \n",
       "\n",
       "primary_type  CRIMINAL SEXUAL ASSAULT  CRIMINAL TRESPASS  DECEPTIVE PRACTICE  \\\n",
       "district                                                                       \n",
       "1                                   2                314                 123   \n",
       "2                                   1                132                  29   \n",
       "3                                   5                188                  28   \n",
       "\n",
       "primary_type  GAMBLING  ...  OBSCENITY  OFFENSE INVOLVING CHILDREN  \\\n",
       "district                ...                                          \n",
       "1                    1  ...          4                           8   \n",
       "2                    1  ...          6                           7   \n",
       "3                    4  ...          1                          18   \n",
       "\n",
       "primary_type  OTHER OFFENSE  PROSTITUTION  PUBLIC PEACE VIOLATION  ROBBERY  \\\n",
       "district                                                                     \n",
       "1                        43             0                      43       78   \n",
       "2                       167            11                      32       17   \n",
       "3                       181             1                      47       20   \n",
       "\n",
       "primary_type  SEX OFFENSE  STALKING  THEFT  WEAPONS VIOLATION  \n",
       "district                                                       \n",
       "1                       7         1    961                 35  \n",
       "2                       3         2    208                106  \n",
       "3                       5         2    129                219  \n",
       "\n",
       "[3 rows x 27 columns]"
      ]
     },
     "execution_count": 374,
     "metadata": {},
     "output_type": "execute_result"
    }
   ],
   "source": [
    "crimes_distr_2019_arrested.head(3)"
   ]
  },
  {
   "cell_type": "code",
   "execution_count": 375,
   "metadata": {},
   "outputs": [],
   "source": [
    "crimes_distr_2019_arrested_perc = round(crimes_distr_2019_arrested/crimes_distr_2019,2)\n",
    "for i in crimes_distr_2019_arrested_perc.columns[crimes_distr_2019_arrested_perc.isnull().any(axis=0)]:\n",
    "    crimes_distr_2019_arrested_perc[i].fillna(crimes_distr_2019_arrested_perc[i].mean(),inplace=True)"
   ]
  },
  {
   "cell_type": "code",
   "execution_count": 376,
   "metadata": {},
   "outputs": [],
   "source": [
    "crimes_distr_2020_arrested = crimes_distr_2020_arrested_tab.pivot_table(index='district',columns='primary_type', values='total',\n",
    "                                                 fill_value=0)\n",
    "crimes_distr_2020_arrested['CRIMINAL SEXUAL ASSAULT']+=crimes_distr_2020_arrested['CRIM SEXUAL ASSAULT']\n",
    "crimes_distr_2020_arrested = crimes_distr_2020_arrested.drop(columns='CRIM SEXUAL ASSAULT');"
   ]
  },
  {
   "cell_type": "code",
   "execution_count": 377,
   "metadata": {},
   "outputs": [
    {
     "data": {
      "text/html": [
       "<div>\n",
       "<style scoped>\n",
       "    .dataframe tbody tr th:only-of-type {\n",
       "        vertical-align: middle;\n",
       "    }\n",
       "\n",
       "    .dataframe tbody tr th {\n",
       "        vertical-align: top;\n",
       "    }\n",
       "\n",
       "    .dataframe thead th {\n",
       "        text-align: right;\n",
       "    }\n",
       "</style>\n",
       "<table border=\"1\" class=\"dataframe\">\n",
       "  <thead>\n",
       "    <tr style=\"text-align: right;\">\n",
       "      <th>primary_type</th>\n",
       "      <th>ARSON</th>\n",
       "      <th>ASSAULT</th>\n",
       "      <th>BATTERY</th>\n",
       "      <th>BURGLARY</th>\n",
       "      <th>CONCEALED CARRY LICENSE VIOLATION</th>\n",
       "      <th>CRIMINAL DAMAGE</th>\n",
       "      <th>CRIMINAL SEXUAL ASSAULT</th>\n",
       "      <th>CRIMINAL TRESPASS</th>\n",
       "      <th>DECEPTIVE PRACTICE</th>\n",
       "      <th>GAMBLING</th>\n",
       "      <th>...</th>\n",
       "      <th>OBSCENITY</th>\n",
       "      <th>OFFENSE INVOLVING CHILDREN</th>\n",
       "      <th>OTHER OFFENSE</th>\n",
       "      <th>PROSTITUTION</th>\n",
       "      <th>PUBLIC PEACE VIOLATION</th>\n",
       "      <th>ROBBERY</th>\n",
       "      <th>SEX OFFENSE</th>\n",
       "      <th>STALKING</th>\n",
       "      <th>THEFT</th>\n",
       "      <th>WEAPONS VIOLATION</th>\n",
       "    </tr>\n",
       "    <tr>\n",
       "      <th>district</th>\n",
       "      <th></th>\n",
       "      <th></th>\n",
       "      <th></th>\n",
       "      <th></th>\n",
       "      <th></th>\n",
       "      <th></th>\n",
       "      <th></th>\n",
       "      <th></th>\n",
       "      <th></th>\n",
       "      <th></th>\n",
       "      <th></th>\n",
       "      <th></th>\n",
       "      <th></th>\n",
       "      <th></th>\n",
       "      <th></th>\n",
       "      <th></th>\n",
       "      <th></th>\n",
       "      <th></th>\n",
       "      <th></th>\n",
       "      <th></th>\n",
       "      <th></th>\n",
       "    </tr>\n",
       "  </thead>\n",
       "  <tbody>\n",
       "    <tr>\n",
       "      <th>1</th>\n",
       "      <td>3</td>\n",
       "      <td>85</td>\n",
       "      <td>302</td>\n",
       "      <td>33</td>\n",
       "      <td>1</td>\n",
       "      <td>59</td>\n",
       "      <td>5</td>\n",
       "      <td>164</td>\n",
       "      <td>38</td>\n",
       "      <td>0</td>\n",
       "      <td>...</td>\n",
       "      <td>1</td>\n",
       "      <td>4</td>\n",
       "      <td>29</td>\n",
       "      <td>2</td>\n",
       "      <td>40</td>\n",
       "      <td>51</td>\n",
       "      <td>7</td>\n",
       "      <td>1</td>\n",
       "      <td>405</td>\n",
       "      <td>158</td>\n",
       "    </tr>\n",
       "    <tr>\n",
       "      <th>2</th>\n",
       "      <td>2</td>\n",
       "      <td>90</td>\n",
       "      <td>250</td>\n",
       "      <td>14</td>\n",
       "      <td>2</td>\n",
       "      <td>45</td>\n",
       "      <td>2</td>\n",
       "      <td>42</td>\n",
       "      <td>14</td>\n",
       "      <td>0</td>\n",
       "      <td>...</td>\n",
       "      <td>3</td>\n",
       "      <td>3</td>\n",
       "      <td>83</td>\n",
       "      <td>9</td>\n",
       "      <td>15</td>\n",
       "      <td>14</td>\n",
       "      <td>2</td>\n",
       "      <td>3</td>\n",
       "      <td>73</td>\n",
       "      <td>136</td>\n",
       "    </tr>\n",
       "    <tr>\n",
       "      <th>3</th>\n",
       "      <td>0</td>\n",
       "      <td>117</td>\n",
       "      <td>356</td>\n",
       "      <td>13</td>\n",
       "      <td>0</td>\n",
       "      <td>66</td>\n",
       "      <td>2</td>\n",
       "      <td>70</td>\n",
       "      <td>15</td>\n",
       "      <td>0</td>\n",
       "      <td>...</td>\n",
       "      <td>2</td>\n",
       "      <td>9</td>\n",
       "      <td>74</td>\n",
       "      <td>0</td>\n",
       "      <td>22</td>\n",
       "      <td>16</td>\n",
       "      <td>3</td>\n",
       "      <td>0</td>\n",
       "      <td>78</td>\n",
       "      <td>308</td>\n",
       "    </tr>\n",
       "  </tbody>\n",
       "</table>\n",
       "<p>3 rows × 27 columns</p>\n",
       "</div>"
      ],
      "text/plain": [
       "primary_type  ARSON  ASSAULT  BATTERY  BURGLARY  \\\n",
       "district                                          \n",
       "1                 3       85      302        33   \n",
       "2                 2       90      250        14   \n",
       "3                 0      117      356        13   \n",
       "\n",
       "primary_type  CONCEALED CARRY LICENSE VIOLATION  CRIMINAL DAMAGE  \\\n",
       "district                                                           \n",
       "1                                             1               59   \n",
       "2                                             2               45   \n",
       "3                                             0               66   \n",
       "\n",
       "primary_type  CRIMINAL SEXUAL ASSAULT  CRIMINAL TRESPASS  DECEPTIVE PRACTICE  \\\n",
       "district                                                                       \n",
       "1                                   5                164                  38   \n",
       "2                                   2                 42                  14   \n",
       "3                                   2                 70                  15   \n",
       "\n",
       "primary_type  GAMBLING  ...  OBSCENITY  OFFENSE INVOLVING CHILDREN  \\\n",
       "district                ...                                          \n",
       "1                    0  ...          1                           4   \n",
       "2                    0  ...          3                           3   \n",
       "3                    0  ...          2                           9   \n",
       "\n",
       "primary_type  OTHER OFFENSE  PROSTITUTION  PUBLIC PEACE VIOLATION  ROBBERY  \\\n",
       "district                                                                     \n",
       "1                        29             2                      40       51   \n",
       "2                        83             9                      15       14   \n",
       "3                        74             0                      22       16   \n",
       "\n",
       "primary_type  SEX OFFENSE  STALKING  THEFT  WEAPONS VIOLATION  \n",
       "district                                                       \n",
       "1                       7         1    405                158  \n",
       "2                       2         3     73                136  \n",
       "3                       3         0     78                308  \n",
       "\n",
       "[3 rows x 27 columns]"
      ]
     },
     "execution_count": 377,
     "metadata": {},
     "output_type": "execute_result"
    }
   ],
   "source": [
    "crimes_distr_2020_arrested.head(3)"
   ]
  },
  {
   "cell_type": "code",
   "execution_count": 378,
   "metadata": {},
   "outputs": [],
   "source": [
    "crimes_distr_2020_arrested_perc = round(crimes_distr_2020_arrested/crimes_distr_2020,2)\n",
    "for i in crimes_distr_2020_arrested_perc.columns[crimes_distr_2020_arrested_perc.isnull().any(axis=0)]:\n",
    "    crimes_distr_2020_arrested_perc[i].fillna(crimes_distr_2020_arrested_perc[i].mean(),inplace=True)"
   ]
  },
  {
   "cell_type": "code",
   "execution_count": 379,
   "metadata": {},
   "outputs": [
    {
     "name": "stderr",
     "output_type": "stream",
     "text": [
      "c:\\users\\idmak\\appdata\\local\\programs\\python\\python38\\lib\\site-packages\\scipy\\stats\\morestats.py:1757: UserWarning: Input data for shapiro has range zero. The results may not be accurate.\n",
      "  warnings.warn(\"Input data for shapiro has range zero. The results \"\n"
     ]
    }
   ],
   "source": [
    "norm_2019_ar = set()\n",
    "for col in crimes_distr_2019_arrested_perc:\n",
    "    if shapiro(crimes_distr_2019_arrested_perc[col])[1]>0.01:\n",
    "        norm_2019_ar.add(col)"
   ]
  },
  {
   "cell_type": "code",
   "execution_count": 380,
   "metadata": {},
   "outputs": [],
   "source": [
    "norm_2020_ar = set()\n",
    "for col in crimes_distr_2020_arrested_perc:\n",
    "    if shapiro(crimes_distr_2020_arrested_perc[col])[1]>0.01:\n",
    "        norm_2020_ar.add(col)"
   ]
  },
  {
   "cell_type": "code",
   "execution_count": 381,
   "metadata": {},
   "outputs": [],
   "source": [
    "normal_columns_ar = norm_2020_ar.intersection(norm_2019_ar)"
   ]
  },
  {
   "cell_type": "code",
   "execution_count": 382,
   "metadata": {},
   "outputs": [
    {
     "name": "stderr",
     "output_type": "stream",
     "text": [
      "c:\\users\\idmak\\appdata\\local\\programs\\python\\python38\\lib\\site-packages\\scipy\\stats\\morestats.py:2603: RuntimeWarning: invalid value encountered in double_scalars\n",
      "  W = numer / denom\n"
     ]
    }
   ],
   "source": [
    "changed_perc_ar=[]\n",
    "for col in normal_columns_ar:\n",
    "    if levene(crimes_distr_2020_arrested_perc[col],crimes_distr_2019_arrested_perc[col])[1]>0.05:\n",
    "        t_val = ttest_ind(crimes_distr_2020_arrested_perc[col],crimes_distr_2019_arrested_perc[col], equal_var=True)[1]\n",
    "        if(t_val < 0.025 or t_val > 0.975):\n",
    "            changed_perc_ar.append(col)\n",
    "    else:\n",
    "        t_val = ttest_ind(crimes_distr_2020_arrested_perc[col],crimes_distr_2019_arrested_perc[col], equal_var=False)[1]\n",
    "        if(t_val < 0.025 or t_val > 0.975):\n",
    "            changed_perc_ar.append(col)"
   ]
  },
  {
   "cell_type": "code",
   "execution_count": 383,
   "metadata": {},
   "outputs": [],
   "source": [
    "df3 = pd.DataFrame(crimes_distr_2019_arrested_perc[changed_perc_ar].mean()).assign(year=2019).reset_index().rename(columns={0: 'perc'})\n",
    "df4 = pd.DataFrame(crimes_distr_2020_arrested_perc[changed_perc_ar].mean()).assign(year=2020).reset_index().rename(columns={0: 'perc'})\n",
    "perc_ar_changed_to_plot = pd.concat([df3,df4]).reset_index().drop(columns='index')"
   ]
  },
  {
   "cell_type": "code",
   "execution_count": 384,
   "metadata": {},
   "outputs": [
    {
     "data": {
      "image/png": "[encoded data removed]",
      "text/plain": [
       "<Figure size 432x288 with 1 Axes>"
      ]
     },
     "metadata": {},
     "output_type": "display_data"
    }
   ],
   "source": [
    "sns.barplot(data=perc_ar_changed_to_plot, x='perc',y='primary_type',hue='year')\\\n",
    "                                                    .set(xlabel='Среднее значение,\\nЗначимые изменения согласно t-test',ylabel=None);"
   ]
  },
  {
   "cell_type": "code",
   "execution_count": 385,
   "metadata": {},
   "outputs": [],
   "source": [
    "not_normal_columns_ar = crimes_distr_2020_arrested_perc.columns.difference(normal_columns_ar)"
   ]
  },
  {
   "cell_type": "code",
   "execution_count": 386,
   "metadata": {},
   "outputs": [
    {
     "name": "stderr",
     "output_type": "stream",
     "text": [
      "c:\\users\\idmak\\appdata\\local\\programs\\python\\python38\\lib\\site-packages\\scipy\\stats\\morestats.py:3155: UserWarning: Sample size too small for normal approximation.\n",
      "  warnings.warn(\"Sample size too small for normal approximation.\")\n"
     ]
    }
   ],
   "source": [
    "changed_perc_ar = []\n",
    "for col in not_normal_columns_ar:\n",
    "    w_val = wilcoxon(crimes_distr_2019_arrested_perc[col],y=crimes_distr_2020_arrested_perc[col],mode='approx')[1]\n",
    "    if w_val < 0.005 or w_val > 0.995:\n",
    "        changed_perc_ar.append(col)"
   ]
  },
  {
   "cell_type": "code",
   "execution_count": 387,
   "metadata": {},
   "outputs": [],
   "source": [
    "df3 = pd.DataFrame(crimes_distr_2019_arrested_perc[changed_perc_ar].median()).assign(year=2019).reset_index().rename(columns={0: 'perc'})\n",
    "df4 = pd.DataFrame(crimes_distr_2020_arrested_perc[changed_perc_ar].median()).assign(year=2020).reset_index().rename(columns={0: 'perc'})\n",
    "perc_ar_changed_to_plot = pd.concat([df3,df4]).reset_index().drop(columns='index')"
   ]
  },
  {
   "cell_type": "code",
   "execution_count": 388,
   "metadata": {},
   "outputs": [
    {
     "data": {
      "image/png": "[encoded data removed]",
      "text/plain": [
       "<Figure size 432x288 with 1 Axes>"
      ]
     },
     "metadata": {},
     "output_type": "display_data"
    }
   ],
   "source": [
    "sns.barplot(data=perc_ar_changed_to_plot, x='perc',y='primary_type',hue='year')\\\n",
    "                                        .set(xlabel='Медиана,\\nЗначимые изменения по Уилкоксону'\n",
    "                                                                                    ,ylabel=None);"
   ]
  },
  {
   "cell_type": "markdown",
   "metadata": {},
   "source": [
    "#### ИЗМЕНЕНИЯ В  \"ДОМАШНИХ\" ПРЕСТУПЛЕНИЙ"
   ]
  },
  {
   "cell_type": "code",
   "execution_count": 389,
   "metadata": {},
   "outputs": [],
   "source": [
    "crimes_distr_2019_domestic_tab = client.query(\"\"\"\n",
    "SELECT district, primary_type, COUNT(unique_key) AS total\n",
    "FROM bigquery-public-data.chicago_crime.crime\n",
    "WHERE year = 2019 AND domestic = TRUE AND (district != 31)\n",
    "AND primary_type NOT IN\n",
    "(SELECT primary_type FROM bigquery-public-data.chicago_crime.crime\n",
    "GROUP BY primary_type,year HAVING(COUNT(unique_key)<20 AND (YEAR = 2019 OR YEAR = 2020)))\n",
    "GROUP BY district, primary_type\n",
    "\"\"\").result().to_dataframe()"
   ]
  },
  {
   "cell_type": "code",
   "execution_count": 390,
   "metadata": {},
   "outputs": [],
   "source": [
    "crimes_distr_2019_domestic = crimes_distr_2019_domestic_tab.pivot_table(index='district',columns='primary_type', values='total',\n",
    "                                                 fill_value=0)\n",
    "crimes_distr_2019_domestic['CRIMINAL SEXUAL ASSAULT']+=crimes_distr_2019_domestic['CRIM SEXUAL ASSAULT']\n",
    "crimes_distr_2019_domsetic = crimes_distr_2019_domestic.drop(columns='CRIM SEXUAL ASSAULT');"
   ]
  },
  {
   "cell_type": "code",
   "execution_count": 391,
   "metadata": {},
   "outputs": [
    {
     "data": {
      "text/html": [
       "<div>\n",
       "<style scoped>\n",
       "    .dataframe tbody tr th:only-of-type {\n",
       "        vertical-align: middle;\n",
       "    }\n",
       "\n",
       "    .dataframe tbody tr th {\n",
       "        vertical-align: top;\n",
       "    }\n",
       "\n",
       "    .dataframe thead th {\n",
       "        text-align: right;\n",
       "    }\n",
       "</style>\n",
       "<table border=\"1\" class=\"dataframe\">\n",
       "  <thead>\n",
       "    <tr style=\"text-align: right;\">\n",
       "      <th>primary_type</th>\n",
       "      <th>ARSON</th>\n",
       "      <th>ASSAULT</th>\n",
       "      <th>BATTERY</th>\n",
       "      <th>BURGLARY</th>\n",
       "      <th>CRIM SEXUAL ASSAULT</th>\n",
       "      <th>CRIMINAL DAMAGE</th>\n",
       "      <th>CRIMINAL SEXUAL ASSAULT</th>\n",
       "      <th>CRIMINAL TRESPASS</th>\n",
       "      <th>DECEPTIVE PRACTICE</th>\n",
       "      <th>HOMICIDE</th>\n",
       "      <th>...</th>\n",
       "      <th>OBSCENITY</th>\n",
       "      <th>OFFENSE INVOLVING CHILDREN</th>\n",
       "      <th>OTHER OFFENSE</th>\n",
       "      <th>PROSTITUTION</th>\n",
       "      <th>PUBLIC PEACE VIOLATION</th>\n",
       "      <th>ROBBERY</th>\n",
       "      <th>SEX OFFENSE</th>\n",
       "      <th>STALKING</th>\n",
       "      <th>THEFT</th>\n",
       "      <th>WEAPONS VIOLATION</th>\n",
       "    </tr>\n",
       "    <tr>\n",
       "      <th>district</th>\n",
       "      <th></th>\n",
       "      <th></th>\n",
       "      <th></th>\n",
       "      <th></th>\n",
       "      <th></th>\n",
       "      <th></th>\n",
       "      <th></th>\n",
       "      <th></th>\n",
       "      <th></th>\n",
       "      <th></th>\n",
       "      <th></th>\n",
       "      <th></th>\n",
       "      <th></th>\n",
       "      <th></th>\n",
       "      <th></th>\n",
       "      <th></th>\n",
       "      <th></th>\n",
       "      <th></th>\n",
       "      <th></th>\n",
       "      <th></th>\n",
       "      <th></th>\n",
       "    </tr>\n",
       "  </thead>\n",
       "  <tbody>\n",
       "    <tr>\n",
       "      <th>1</th>\n",
       "      <td>0</td>\n",
       "      <td>82</td>\n",
       "      <td>370</td>\n",
       "      <td>3</td>\n",
       "      <td>2</td>\n",
       "      <td>29</td>\n",
       "      <td>3</td>\n",
       "      <td>4</td>\n",
       "      <td>7</td>\n",
       "      <td>0</td>\n",
       "      <td>...</td>\n",
       "      <td>0</td>\n",
       "      <td>12</td>\n",
       "      <td>147</td>\n",
       "      <td>0</td>\n",
       "      <td>1</td>\n",
       "      <td>1</td>\n",
       "      <td>5</td>\n",
       "      <td>7</td>\n",
       "      <td>36</td>\n",
       "      <td>0</td>\n",
       "    </tr>\n",
       "    <tr>\n",
       "      <th>2</th>\n",
       "      <td>0</td>\n",
       "      <td>235</td>\n",
       "      <td>1137</td>\n",
       "      <td>8</td>\n",
       "      <td>5</td>\n",
       "      <td>169</td>\n",
       "      <td>6</td>\n",
       "      <td>16</td>\n",
       "      <td>8</td>\n",
       "      <td>2</td>\n",
       "      <td>...</td>\n",
       "      <td>3</td>\n",
       "      <td>48</td>\n",
       "      <td>324</td>\n",
       "      <td>0</td>\n",
       "      <td>1</td>\n",
       "      <td>10</td>\n",
       "      <td>11</td>\n",
       "      <td>6</td>\n",
       "      <td>131</td>\n",
       "      <td>1</td>\n",
       "    </tr>\n",
       "    <tr>\n",
       "      <th>3</th>\n",
       "      <td>1</td>\n",
       "      <td>329</td>\n",
       "      <td>1786</td>\n",
       "      <td>14</td>\n",
       "      <td>15</td>\n",
       "      <td>260</td>\n",
       "      <td>23</td>\n",
       "      <td>17</td>\n",
       "      <td>12</td>\n",
       "      <td>5</td>\n",
       "      <td>...</td>\n",
       "      <td>0</td>\n",
       "      <td>87</td>\n",
       "      <td>357</td>\n",
       "      <td>0</td>\n",
       "      <td>2</td>\n",
       "      <td>15</td>\n",
       "      <td>18</td>\n",
       "      <td>8</td>\n",
       "      <td>196</td>\n",
       "      <td>2</td>\n",
       "    </tr>\n",
       "  </tbody>\n",
       "</table>\n",
       "<p>3 rows × 26 columns</p>\n",
       "</div>"
      ],
      "text/plain": [
       "primary_type  ARSON  ASSAULT  BATTERY  BURGLARY  CRIM SEXUAL ASSAULT  \\\n",
       "district                                                               \n",
       "1                 0       82      370         3                    2   \n",
       "2                 0      235     1137         8                    5   \n",
       "3                 1      329     1786        14                   15   \n",
       "\n",
       "primary_type  CRIMINAL DAMAGE  CRIMINAL SEXUAL ASSAULT  CRIMINAL TRESPASS  \\\n",
       "district                                                                    \n",
       "1                          29                        3                  4   \n",
       "2                         169                        6                 16   \n",
       "3                         260                       23                 17   \n",
       "\n",
       "primary_type  DECEPTIVE PRACTICE  HOMICIDE  ...  OBSCENITY  \\\n",
       "district                                    ...              \n",
       "1                              7         0  ...          0   \n",
       "2                              8         2  ...          3   \n",
       "3                             12         5  ...          0   \n",
       "\n",
       "primary_type  OFFENSE INVOLVING CHILDREN  OTHER OFFENSE  PROSTITUTION  \\\n",
       "district                                                                \n",
       "1                                     12            147             0   \n",
       "2                                     48            324             0   \n",
       "3                                     87            357             0   \n",
       "\n",
       "primary_type  PUBLIC PEACE VIOLATION  ROBBERY  SEX OFFENSE  STALKING  THEFT  \\\n",
       "district                                                                      \n",
       "1                                  1        1            5         7     36   \n",
       "2                                  1       10           11         6    131   \n",
       "3                                  2       15           18         8    196   \n",
       "\n",
       "primary_type  WEAPONS VIOLATION  \n",
       "district                         \n",
       "1                             0  \n",
       "2                             1  \n",
       "3                             2  \n",
       "\n",
       "[3 rows x 26 columns]"
      ]
     },
     "execution_count": 391,
     "metadata": {},
     "output_type": "execute_result"
    }
   ],
   "source": [
    "crimes_distr_2019_domestic.head(3)"
   ]
  },
  {
   "cell_type": "code",
   "execution_count": 392,
   "metadata": {},
   "outputs": [],
   "source": [
    "crimes_distr_2020_domestic_tab = client.query(\"\"\"\n",
    "SELECT district, primary_type, COUNT(unique_key) AS total\n",
    "FROM bigquery-public-data.chicago_crime.crime\n",
    "WHERE year = 2020 AND domestic = TRUE AND (district != 31)\n",
    "AND primary_type NOT IN\n",
    "(SELECT primary_type FROM bigquery-public-data.chicago_crime.crime\n",
    "GROUP BY primary_type,year HAVING(COUNT(unique_key)<20 AND (YEAR = 2019 OR YEAR = 2020)))\n",
    "GROUP BY district, primary_type\n",
    "\"\"\").result().to_dataframe()"
   ]
  },
  {
   "cell_type": "code",
   "execution_count": 393,
   "metadata": {},
   "outputs": [],
   "source": [
    "crimes_distr_2020_domestic = crimes_distr_2020_domestic_tab.pivot_table(index='district',columns='primary_type', values='total',\n",
    "                                                 fill_value=0)\n",
    "crimes_distr_2020_domestic['CRIMINAL SEXUAL ASSAULT']+=crimes_distr_2020_domestic['CRIM SEXUAL ASSAULT']\n",
    "crimes_distr_2020_domsetic = crimes_distr_2020_domestic.drop(columns='CRIM SEXUAL ASSAULT');"
   ]
  },
  {
   "cell_type": "code",
   "execution_count": 394,
   "metadata": {},
   "outputs": [
    {
     "data": {
      "text/html": [
       "<div>\n",
       "<style scoped>\n",
       "    .dataframe tbody tr th:only-of-type {\n",
       "        vertical-align: middle;\n",
       "    }\n",
       "\n",
       "    .dataframe tbody tr th {\n",
       "        vertical-align: top;\n",
       "    }\n",
       "\n",
       "    .dataframe thead th {\n",
       "        text-align: right;\n",
       "    }\n",
       "</style>\n",
       "<table border=\"1\" class=\"dataframe\">\n",
       "  <thead>\n",
       "    <tr style=\"text-align: right;\">\n",
       "      <th>primary_type</th>\n",
       "      <th>ARSON</th>\n",
       "      <th>ASSAULT</th>\n",
       "      <th>BATTERY</th>\n",
       "      <th>BURGLARY</th>\n",
       "      <th>CRIM SEXUAL ASSAULT</th>\n",
       "      <th>CRIMINAL DAMAGE</th>\n",
       "      <th>CRIMINAL SEXUAL ASSAULT</th>\n",
       "      <th>CRIMINAL TRESPASS</th>\n",
       "      <th>DECEPTIVE PRACTICE</th>\n",
       "      <th>HOMICIDE</th>\n",
       "      <th>...</th>\n",
       "      <th>NARCOTICS</th>\n",
       "      <th>OBSCENITY</th>\n",
       "      <th>OFFENSE INVOLVING CHILDREN</th>\n",
       "      <th>OTHER OFFENSE</th>\n",
       "      <th>PUBLIC PEACE VIOLATION</th>\n",
       "      <th>ROBBERY</th>\n",
       "      <th>SEX OFFENSE</th>\n",
       "      <th>STALKING</th>\n",
       "      <th>THEFT</th>\n",
       "      <th>WEAPONS VIOLATION</th>\n",
       "    </tr>\n",
       "    <tr>\n",
       "      <th>district</th>\n",
       "      <th></th>\n",
       "      <th></th>\n",
       "      <th></th>\n",
       "      <th></th>\n",
       "      <th></th>\n",
       "      <th></th>\n",
       "      <th></th>\n",
       "      <th></th>\n",
       "      <th></th>\n",
       "      <th></th>\n",
       "      <th></th>\n",
       "      <th></th>\n",
       "      <th></th>\n",
       "      <th></th>\n",
       "      <th></th>\n",
       "      <th></th>\n",
       "      <th></th>\n",
       "      <th></th>\n",
       "      <th></th>\n",
       "      <th></th>\n",
       "      <th></th>\n",
       "    </tr>\n",
       "  </thead>\n",
       "  <tbody>\n",
       "    <tr>\n",
       "      <th>1</th>\n",
       "      <td>0</td>\n",
       "      <td>61</td>\n",
       "      <td>343</td>\n",
       "      <td>0</td>\n",
       "      <td>0</td>\n",
       "      <td>20</td>\n",
       "      <td>8</td>\n",
       "      <td>5</td>\n",
       "      <td>2</td>\n",
       "      <td>0</td>\n",
       "      <td>...</td>\n",
       "      <td>0</td>\n",
       "      <td>0</td>\n",
       "      <td>15</td>\n",
       "      <td>78</td>\n",
       "      <td>0</td>\n",
       "      <td>2</td>\n",
       "      <td>1</td>\n",
       "      <td>3</td>\n",
       "      <td>41</td>\n",
       "      <td>0</td>\n",
       "    </tr>\n",
       "    <tr>\n",
       "      <th>2</th>\n",
       "      <td>1</td>\n",
       "      <td>222</td>\n",
       "      <td>960</td>\n",
       "      <td>8</td>\n",
       "      <td>0</td>\n",
       "      <td>169</td>\n",
       "      <td>8</td>\n",
       "      <td>12</td>\n",
       "      <td>11</td>\n",
       "      <td>4</td>\n",
       "      <td>...</td>\n",
       "      <td>1</td>\n",
       "      <td>0</td>\n",
       "      <td>55</td>\n",
       "      <td>261</td>\n",
       "      <td>0</td>\n",
       "      <td>2</td>\n",
       "      <td>8</td>\n",
       "      <td>12</td>\n",
       "      <td>122</td>\n",
       "      <td>2</td>\n",
       "    </tr>\n",
       "    <tr>\n",
       "      <th>3</th>\n",
       "      <td>0</td>\n",
       "      <td>327</td>\n",
       "      <td>1556</td>\n",
       "      <td>23</td>\n",
       "      <td>0</td>\n",
       "      <td>316</td>\n",
       "      <td>12</td>\n",
       "      <td>17</td>\n",
       "      <td>4</td>\n",
       "      <td>3</td>\n",
       "      <td>...</td>\n",
       "      <td>0</td>\n",
       "      <td>0</td>\n",
       "      <td>72</td>\n",
       "      <td>277</td>\n",
       "      <td>2</td>\n",
       "      <td>28</td>\n",
       "      <td>8</td>\n",
       "      <td>8</td>\n",
       "      <td>199</td>\n",
       "      <td>2</td>\n",
       "    </tr>\n",
       "  </tbody>\n",
       "</table>\n",
       "<p>3 rows × 24 columns</p>\n",
       "</div>"
      ],
      "text/plain": [
       "primary_type  ARSON  ASSAULT  BATTERY  BURGLARY  CRIM SEXUAL ASSAULT  \\\n",
       "district                                                               \n",
       "1                 0       61      343         0                    0   \n",
       "2                 1      222      960         8                    0   \n",
       "3                 0      327     1556        23                    0   \n",
       "\n",
       "primary_type  CRIMINAL DAMAGE  CRIMINAL SEXUAL ASSAULT  CRIMINAL TRESPASS  \\\n",
       "district                                                                    \n",
       "1                          20                        8                  5   \n",
       "2                         169                        8                 12   \n",
       "3                         316                       12                 17   \n",
       "\n",
       "primary_type  DECEPTIVE PRACTICE  HOMICIDE  ...  NARCOTICS  OBSCENITY  \\\n",
       "district                                    ...                         \n",
       "1                              2         0  ...          0          0   \n",
       "2                             11         4  ...          1          0   \n",
       "3                              4         3  ...          0          0   \n",
       "\n",
       "primary_type  OFFENSE INVOLVING CHILDREN  OTHER OFFENSE  \\\n",
       "district                                                  \n",
       "1                                     15             78   \n",
       "2                                     55            261   \n",
       "3                                     72            277   \n",
       "\n",
       "primary_type  PUBLIC PEACE VIOLATION  ROBBERY  SEX OFFENSE  STALKING  THEFT  \\\n",
       "district                                                                      \n",
       "1                                  0        2            1         3     41   \n",
       "2                                  0        2            8        12    122   \n",
       "3                                  2       28            8         8    199   \n",
       "\n",
       "primary_type  WEAPONS VIOLATION  \n",
       "district                         \n",
       "1                             0  \n",
       "2                             2  \n",
       "3                             2  \n",
       "\n",
       "[3 rows x 24 columns]"
      ]
     },
     "execution_count": 394,
     "metadata": {},
     "output_type": "execute_result"
    }
   ],
   "source": [
    "crimes_distr_2020_domestic.head(3)"
   ]
  },
  {
   "cell_type": "code",
   "execution_count": 395,
   "metadata": {},
   "outputs": [],
   "source": [
    "crimes_distr_2019_domestic_perc = round(crimes_distr_2019_domsetic/crimes_distr_2019,2)\n",
    "for i in crimes_distr_2019_domestic_perc.columns[crimes_distr_2019_domestic_perc.isnull().any(axis=0)]:\n",
    "    crimes_distr_2019_domestic_perc[i].fillna(crimes_distr_2019_domestic_perc[i].mean(),inplace=True)"
   ]
  },
  {
   "cell_type": "code",
   "execution_count": 396,
   "metadata": {},
   "outputs": [],
   "source": [
    "crimes_distr_2020_domestic_perc = round(crimes_distr_2020_domsetic/crimes_distr_2020,2)\n",
    "for i in crimes_distr_2020_domestic_perc.columns[crimes_distr_2020_domestic_perc.isnull().any(axis=0)]:\n",
    "    crimes_distr_2020_domestic_perc[i].fillna(crimes_distr_2020_domestic_perc[i].mean(),inplace=True)"
   ]
  },
  {
   "cell_type": "code",
   "execution_count": 397,
   "metadata": {},
   "outputs": [
    {
     "name": "stderr",
     "output_type": "stream",
     "text": [
      "c:\\users\\idmak\\appdata\\local\\programs\\python\\python38\\lib\\site-packages\\scipy\\stats\\morestats.py:1757: UserWarning: Input data for shapiro has range zero. The results may not be accurate.\n",
      "  warnings.warn(\"Input data for shapiro has range zero. The results \"\n"
     ]
    }
   ],
   "source": [
    "norm_2019_dom = set()\n",
    "for col in crimes_distr_2019_domestic_perc:\n",
    "    if shapiro(crimes_distr_2019_domestic_perc[col])[1]>0.01:\n",
    "        norm_2019_dom.add(col)"
   ]
  },
  {
   "cell_type": "code",
   "execution_count": 398,
   "metadata": {},
   "outputs": [],
   "source": [
    "norm_2020_dom = set()\n",
    "for col in crimes_distr_2020_domestic_perc:\n",
    "    if shapiro(crimes_distr_2020_domestic_perc[col])[1]>0.01:\n",
    "        norm_2020_dom.add(col)"
   ]
  },
  {
   "cell_type": "code",
   "execution_count": 399,
   "metadata": {},
   "outputs": [],
   "source": [
    "normal_columns_dom = norm_2020_dom.intersection(norm_2019_dom)"
   ]
  },
  {
   "cell_type": "code",
   "execution_count": 400,
   "metadata": {},
   "outputs": [],
   "source": [
    "changed_perc_dom=[]\n",
    "for col in normal_columns_dom:\n",
    "    if levene(crimes_distr_2020_domestic_perc[col],crimes_distr_2019_domestic_perc[col])[1]>0.05:\n",
    "        t_val = ttest_ind(crimes_distr_2020_domestic_perc[col],crimes_distr_2019_domestic_perc[col], equal_var=True)[1]\n",
    "        if(t_val < 0.025 or t_val > 0.975):\n",
    "            changed_perc_dom.append(col)\n",
    "    else:\n",
    "        t_val = ttest_ind(crimes_distr_2020_domestic_perc[col],crimes_distr_2019_domestic_perc[col], equal_var=False)[1]\n",
    "        if(t_val < 0.025 or t_val > 0.975):\n",
    "            changed_perc_dom.append(col)"
   ]
  },
  {
   "cell_type": "code",
   "execution_count": 401,
   "metadata": {},
   "outputs": [],
   "source": [
    "df5 = pd.DataFrame(crimes_distr_2019_domestic_perc[changed_perc_dom].mean()).assign(year=2019).reset_index().rename(columns={0: 'perc'})\n",
    "df6 = pd.DataFrame(crimes_distr_2020_domestic_perc[changed_perc_dom].mean()).assign(year=2020).reset_index().rename(columns={0: 'perc'})\n",
    "perc_dom_changed_to_plot = pd.concat([df5,df6]).reset_index().drop(columns='index')"
   ]
  },
  {
   "cell_type": "code",
   "execution_count": 402,
   "metadata": {},
   "outputs": [
    {
     "data": {
      "image/png": "[encoded data removed]",
      "text/plain": [
       "<Figure size 432x288 with 1 Axes>"
      ]
     },
     "metadata": {},
     "output_type": "display_data"
    }
   ],
   "source": [
    "sns.barplot(data=perc_dom_changed_to_plot, x='perc',y='primary_type',hue='year')\\\n",
    "                                                    .set(xlabel='Среднее значение,\\nЗначимые изменения согласно t-test',ylabel=None);"
   ]
  },
  {
   "cell_type": "code",
   "execution_count": 403,
   "metadata": {},
   "outputs": [],
   "source": [
    "not_normal_columns_dom = crimes_distr_2020_domestic_perc.columns.difference(normal_columns_dom)\n",
    "not_normal_columns_dom = set(not_normal_columns_dom).difference\\\n",
    "(['PROSTITUTION','CONCEALED CARRY LICENCE VIOLATION','LIQUOR LAW VIOLATION'])"
   ]
  },
  {
   "cell_type": "code",
   "execution_count": 404,
   "metadata": {},
   "outputs": [
    {
     "name": "stderr",
     "output_type": "stream",
     "text": [
      "c:\\users\\idmak\\appdata\\local\\programs\\python\\python38\\lib\\site-packages\\scipy\\stats\\morestats.py:3155: UserWarning: Sample size too small for normal approximation.\n",
      "  warnings.warn(\"Sample size too small for normal approximation.\")\n"
     ]
    }
   ],
   "source": [
    "changed_perc_dom = []\n",
    "for col in not_normal_columns_dom:\n",
    "    w_val = wilcoxon(crimes_distr_2019_domestic_perc[col],y=crimes_distr_2020_domestic_perc[col],mode='approx')[1]\n",
    "    if w_val < 0.005 or w_val > 0.995:\n",
    "        changed_perc_dom.append(col)"
   ]
  },
  {
   "cell_type": "code",
   "execution_count": 405,
   "metadata": {},
   "outputs": [],
   "source": [
    "df7 = pd.DataFrame(crimes_distr_2019_domestic_perc[changed_perc_dom].mean()).assign(year=2019).reset_index().rename(columns={0: 'perc'})\n",
    "df8 = pd.DataFrame(crimes_distr_2020_domestic_perc[changed_perc_dom].mean()).assign(year=2020).reset_index().rename(columns={0: 'perc'})\n",
    "perc_dom_changed_to_plot = pd.concat([df7,df8]).reset_index().drop(columns='index')"
   ]
  },
  {
   "cell_type": "code",
   "execution_count": 406,
   "metadata": {},
   "outputs": [
    {
     "data": {
      "image/png": "[encoded data removed]",
      "text/plain": [
       "<Figure size 432x288 with 1 Axes>"
      ]
     },
     "metadata": {},
     "output_type": "display_data"
    }
   ],
   "source": [
    "sns.barplot(data=perc_dom_changed_to_plot, x='perc',y='primary_type',hue='year')\\\n",
    "                                        .set(xlabel='Среднее,\\nЗначимые изменения по Уилкоксону'\n",
    "                                                                                    ,ylabel=None);"
   ]
  }
 ],
 "metadata": {
  "kernelspec": {
   "display_name": "Python 3 (ipykernel)",
   "language": "python",
   "name": "python3"
  },
  "language_info": {
   "codemirror_mode": {
    "name": "ipython",
    "version": 3
   },
   "file_extension": ".py",
   "mimetype": "text/x-python",
   "name": "python",
   "nbconvert_exporter": "python",
   "pygments_lexer": "ipython3",
   "version": "3.8.8"
  }
 },
 "nbformat": 4,
 "nbformat_minor": 4
}
